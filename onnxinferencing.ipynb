{
 "cells": [
  {
   "cell_type": "code",
   "execution_count": 1,
   "metadata": {},
   "outputs": [],
   "source": [
    "import onnx\n",
    "import onnxruntime as ort\n",
    "import cv2\n",
    "import tensorflow as tf\n",
    "import numpy as np\n",
    "import time"
   ]
  },
  {
   "cell_type": "code",
   "execution_count": 2,
   "metadata": {},
   "outputs": [],
   "source": [
    "session = ort.InferenceSession('models/onnxvgg16.onnx', None)\n",
    "input_name = session.get_inputs()[0].name\n",
    "output_thresh = session.get_outputs()[0].name\n",
    "output_coords = session.get_outputs()[1].name"
   ]
  },
  {
   "cell_type": "code",
   "execution_count": 3,
   "metadata": {},
   "outputs": [],
   "source": [
    "input_data = 'C:\\\\Users\\\\SM Harikarthik\\\\Documents\\\\VSprogramming\\\\FaceDetection\\detect\\\\FaceDetection\\\\data\\\\aug_data\\\\test\\\\images\\\\c0a5fbe2-d361-11ed-bb40-ffc1cbde35b3.0.jpg'\n",
    "\n",
    "img = cv2.imread(input_data)\n",
    "img = cv2.cvtColor(img, cv2.COLOR_BGR2RGB)\n",
    "img = tf.image.resize(img, (120,120))\n",
    "img = np.expand_dims(img/255,0)"
   ]
  },
  {
   "cell_type": "code",
   "execution_count": 4,
   "metadata": {},
   "outputs": [
    {
     "name": "stdout",
     "output_type": "stream",
     "text": [
      "input_5\n",
      "dense_7\n"
     ]
    }
   ],
   "source": [
    "print(input_name)\n",
    "print(output_coords)"
   ]
  },
  {
   "cell_type": "code",
   "execution_count": 5,
   "metadata": {},
   "outputs": [
    {
     "ename": "NameError",
     "evalue": "name 'output_name' is not defined",
     "output_type": "error",
     "traceback": [
      "\u001b[1;31m---------------------------------------------------------------------------\u001b[0m",
      "\u001b[1;31mNameError\u001b[0m                                 Traceback (most recent call last)",
      "\u001b[1;32m~\\AppData\\Local\\Temp\\ipykernel_24924\\2029057611.py\u001b[0m in \u001b[0;36m<module>\u001b[1;34m\u001b[0m\n\u001b[1;32m----> 1\u001b[1;33m \u001b[0moutput\u001b[0m \u001b[1;33m=\u001b[0m \u001b[0moutput_name\u001b[0m\u001b[1;33m,\u001b[0m\u001b[0moutput_name1\u001b[0m\u001b[1;33m\u001b[0m\u001b[1;33m\u001b[0m\u001b[0m\n\u001b[0m",
      "\u001b[1;31mNameError\u001b[0m: name 'output_name' is not defined"
     ]
    }
   ],
   "source": [
    "output = output_name,output_name1"
   ]
  },
  {
   "cell_type": "code",
   "execution_count": 5,
   "metadata": {},
   "outputs": [],
   "source": [
    "start_time = time.time()\n",
    "threshold = session.run([output_thresh], {input_name: img})\n",
    "coords = session.run([output_coords], {input_name: img})\n",
    "end_time = time.time()\n",
    "end_time = end_time - start_time"
   ]
  },
  {
   "cell_type": "code",
   "execution_count": 26,
   "metadata": {},
   "outputs": [],
   "source": [
    "output_threshh = np.array(threshold)\n",
    "sample_coords = np.array(coords[0][0])"
   ]
  },
  {
   "cell_type": "code",
   "execution_count": 30,
   "metadata": {},
   "outputs": [
    {
     "name": "stdout",
     "output_type": "stream",
     "text": [
      "[0.9981786]\n",
      "<class 'numpy.ndarray'>\n"
     ]
    }
   ],
   "source": [
    "print(output_threshh[0][0])\n",
    "print(output_coords)"
   ]
  },
  {
   "cell_type": "code",
   "execution_count": 27,
   "metadata": {},
   "outputs": [
    {
     "name": "stdout",
     "output_type": "stream",
     "text": [
      "[0.15181348 0.08840716 0.40237477 0.33367234] <class 'numpy.ndarray'>\n"
     ]
    }
   ],
   "source": [
    "print(coords[0][0],type(sample_coords))"
   ]
  },
  {
   "cell_type": "code",
   "execution_count": 40,
   "metadata": {},
   "outputs": [],
   "source": []
  },
  {
   "cell_type": "code",
   "execution_count": 41,
   "metadata": {},
   "outputs": [
    {
     "name": "stdout",
     "output_type": "stream",
     "text": [
      "-1681924609.4728773 0.06201004981994629\n"
     ]
    }
   ],
   "source": [
    "pred = threshold, coords\n",
    "print(end_time11, end_time22)\n"
   ]
  },
  {
   "cell_type": "code",
   "execution_count": 42,
   "metadata": {},
   "outputs": [
    {
     "name": "stdout",
     "output_type": "stream",
     "text": [
      "-840962304.7054336\n"
     ]
    }
   ],
   "source": [
    "sum = end_time11 + end_time22\n",
    "sum/=2\n",
    "print(sum)"
   ]
  },
  {
   "cell_type": "code",
   "execution_count": 37,
   "metadata": {},
   "outputs": [
    {
     "name": "stdout",
     "output_type": "stream",
     "text": [
      "([array([[0.9981786]], dtype=float32)], [array([[0.15181348, 0.08840716, 0.40237477, 0.33367234]], dtype=float32)]) 0.1270747184753418\n"
     ]
    }
   ],
   "source": [
    "print(pred, end_time)"
   ]
  },
  {
   "cell_type": "code",
   "execution_count": 31,
   "metadata": {},
   "outputs": [],
   "source": [
    "coords = session.run([output_name1], {input_name: img})"
   ]
  },
  {
   "cell_type": "code",
   "execution_count": 32,
   "metadata": {},
   "outputs": [
    {
     "name": "stdout",
     "output_type": "stream",
     "text": [
      "[array([[0.15181348, 0.08840716, 0.40237477, 0.33367234]], dtype=float32)]\n"
     ]
    }
   ],
   "source": [
    "print(coords)"
   ]
  },
  {
   "cell_type": "code",
   "execution_count": null,
   "metadata": {},
   "outputs": [],
   "source": []
  },
  {
   "cell_type": "code",
   "execution_count": 3,
   "metadata": {},
   "outputs": [
    {
     "name": "stdout",
     "output_type": "stream",
     "text": [
      "0.04999876022338867\n"
     ]
    },
    {
     "ename": "IndexError",
     "evalue": "too many indices for array: array is 0-dimensional, but 1 were indexed",
     "output_type": "error",
     "traceback": [
      "\u001b[1;31m---------------------------------------------------------------------------\u001b[0m",
      "\u001b[1;31mIndexError\u001b[0m                                Traceback (most recent call last)",
      "\u001b[1;32m~\\AppData\\Local\\Temp\\ipykernel_20284\\1695717727.py\u001b[0m in \u001b[0;36m<module>\u001b[1;34m\u001b[0m\n\u001b[0;32m     28\u001b[0m         \u001b[1;31m# Controls the label rectangle\u001b[0m\u001b[1;33m\u001b[0m\u001b[1;33m\u001b[0m\u001b[1;33m\u001b[0m\u001b[0m\n\u001b[0;32m     29\u001b[0m         cv2.rectangle(frame, \n\u001b[1;32m---> 30\u001b[1;33m                       tuple(np.add(np.multiply(sample_coords[:2], [450,450]).astype(int), \n\u001b[0m\u001b[0;32m     31\u001b[0m                                     [0,-30])),\n\u001b[0;32m     32\u001b[0m                       tuple(np.add(np.multiply(sample_coords[:2], [450,450]).astype(int),\n",
      "\u001b[1;31mIndexError\u001b[0m: too many indices for array: array is 0-dimensional, but 1 were indexed"
     ]
    }
   ],
   "source": [
    "cap = cv2.VideoCapture(0)\n",
    "num_frames = 0\n",
    "start_time = time.time()\n",
    "while cap.isOpened():\n",
    "    _ , frame = cap.read()\n",
    "    frame = frame[50:500, 50:500,:]\n",
    "\n",
    "    rgb = cv2.cvtColor(frame, cv2.COLOR_BGR2RGB)\n",
    "    resized = tf.image.resize(rgb, (120,120))\n",
    "    img = np.expand_dims(resized/255,0)\n",
    "    time1 = time.time()\n",
    "    threshold = session.run([output_thresh], {input_name: img})\n",
    "    coords = session.run([output_coords], {input_name: img})\n",
    "    time2 = time.time()\n",
    "    time3 = time2 - time1\n",
    "    print(time3)\n",
    "    output_threshh = np.array(threshold)\n",
    "    output_coords = np.array(coords[0][0])\n",
    "    yhat = output_threshh, output_coords\n",
    "    sample_coords = np.array(yhat[1][0])\n",
    "    \n",
    "    if yhat[0] > 0.8: \n",
    "        # Controls the main rectangle\n",
    "        cv2.rectangle(frame, \n",
    "                      tuple(np.multiply(output_coords[:2], [450,450]).astype(int)),\n",
    "                      tuple(np.multiply(output_coords[2:], [450,450]).astype(int)), \n",
    "                            (255,0,0), 2)\n",
    "        # Controls the label rectangle\n",
    "        cv2.rectangle(frame, \n",
    "                      tuple(np.add(np.multiply(sample_coords[:2], [450,450]).astype(int), \n",
    "                                    [0,-30])),\n",
    "                      tuple(np.add(np.multiply(sample_coords[:2], [450,450]).astype(int),\n",
    "                                    [80,0])), \n",
    "                            (255,0,0), -1)\n",
    "        \n",
    "        # Controls the text rendered\n",
    "        cv2.putText(frame, 'face', tuple(np.add(np.multiply(sample_coords[:2], [450,450]).astype(int),\n",
    "                                               [0,-5])),\n",
    "                    cv2.FONT_HERSHEY_SIMPLEX, 1, (255,255,255), 2, cv2.LINE_AA)\n",
    "    \n",
    "    cv2.imshow('EyeTrack', frame)\n",
    "\n",
    "    num_frames += 1\n",
    "    fps = num_frames / (time.time() - start_time)\n",
    "    print(f'Frame rate: {fps:.2f} fps')\n",
    "    \n",
    "    if cv2.waitKey(1) & 0xFF == ord('q'):\n",
    "        break\n",
    "cap.release()\n",
    "cv2.destroyAllWindows()\n",
    "\n",
    "print(f'Total number of frames: {num_frames}')\n",
    "print(f'Total elapsed time: {time.time() - start_time:.2f} s')\n",
    "print(f'Average FPS: {num_frames / (time.time() - start_time):.2f} fps')"
   ]
  },
  {
   "cell_type": "code",
   "execution_count": null,
   "metadata": {},
   "outputs": [],
   "source": []
  }
 ],
 "metadata": {
  "kernelspec": {
   "display_name": "tfcpu270",
   "language": "python",
   "name": "python3"
  },
  "language_info": {
   "codemirror_mode": {
    "name": "ipython",
    "version": 3
   },
   "file_extension": ".py",
   "mimetype": "text/x-python",
   "name": "python",
   "nbconvert_exporter": "python",
   "pygments_lexer": "ipython3",
   "version": "3.7.16"
  },
  "orig_nbformat": 4
 },
 "nbformat": 4,
 "nbformat_minor": 2
}
